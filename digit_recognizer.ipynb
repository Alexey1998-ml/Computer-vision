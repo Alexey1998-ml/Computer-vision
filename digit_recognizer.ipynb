{
  "nbformat": 4,
  "nbformat_minor": 0,
  "metadata": {
    "colab": {
      "name": "digit_recognizer.ipynb",
      "provenance": [],
      "collapsed_sections": [],
      "mount_file_id": "1nYpLU_y5bhX4g1iKzXEFff8lKHZfjIJD",
      "authorship_tag": "ABX9TyMc6k0T2dqPUnScHrzFiitr",
      "include_colab_link": true
    },
    "kernelspec": {
      "name": "python3",
      "display_name": "Python 3"
    },
    "accelerator": "GPU"
  },
  "cells": [
    {
      "cell_type": "markdown",
      "metadata": {
        "id": "view-in-github",
        "colab_type": "text"
      },
      "source": [
        "<a href=\"https://colab.research.google.com/github/Alexey1998-ml/Computer-vision/blob/master/digit_recognizer.ipynb\" target=\"_parent\"><img src=\"https://colab.research.google.com/assets/colab-badge.svg\" alt=\"Open In Colab\"/></a>"
      ]
    },
    {
      "cell_type": "code",
      "metadata": {
        "id": "2V9qNCxdi4Pq"
      },
      "source": [
        "import pandas as pd\n",
        "import numpy as np\n",
        "import cv2\n",
        "\n",
        "import albumentations as A\n",
        "import copy\n",
        "import torch\n",
        "import torchvision\n",
        "import torch.nn as nn\n",
        "from torch.utils.data import DataLoader, Dataset\n",
        "from IPython.display import clear_output\n",
        "\n",
        "from sklearn.ensemble import RandomForestClassifier\n",
        "from sklearn.model_selection import GridSearchCV\n",
        "import xgboost as xgb\n",
        "\n",
        "from sklearn.metrics import confusion_matrix\n",
        "import itertools\n",
        "from matplotlib import pyplot as plt\n",
        "from sklearn.model_selection import train_test_split\n",
        "from sklearn.metrics import accuracy_score\n",
        "import random\n",
        "DIR_INPUT = 'drive/My Drive/digit recognizer'\n",
        "DIR_TRAIN = f'{DIR_INPUT}/train.csv'\n",
        "DIR_TEST = f'{DIR_INPUT}/test.csv'"
      ],
      "execution_count": 1,
      "outputs": []
    },
    {
      "cell_type": "code",
      "metadata": {
        "id": "cIGsZmA9jN6P"
      },
      "source": [
        "train_df = pd.read_csv(DIR_TRAIN)\n",
        "test_df = pd.read_csv(DIR_TEST)"
      ],
      "execution_count": 2,
      "outputs": []
    },
    {
      "cell_type": "code",
      "metadata": {
        "id": "u2pjIGSPm1bU"
      },
      "source": [
        "train_df, valid_df = train_test_split(train_df, test_size = 0.1, stratify = train_df['label'])"
      ],
      "execution_count": 3,
      "outputs": []
    },
    {
      "cell_type": "code",
      "metadata": {
        "id": "teAakP1pnN6q"
      },
      "source": [
        "class DigitRecognizerDataset(Dataset):\n",
        "\n",
        "  def __init__(self, df, target_column = 'label', transforms = None):\n",
        "    super().__init__()\n",
        "    self.df = df\n",
        "    self.image_columns = df.columns.drop(target_column)\n",
        "    self.target_column = target_column\n",
        "    self.transforms = transforms\n",
        "\n",
        "  def __getitem__(self, idx):\n",
        "    image = np.array(self.df[self.image_columns].iloc[idx]).reshape(28, 28) / 255.\n",
        "    label = self.df.iloc[idx][self.target_column] \n",
        "    if self.transforms:\n",
        "      image = self.transforms(image = image)\n",
        "    return image, label\n",
        "  \n",
        "  def __len__(self):\n",
        "    return len(self.df)"
      ],
      "execution_count": 4,
      "outputs": []
    },
    {
      "cell_type": "code",
      "metadata": {
        "id": "5OVcrPLZq7Lw"
      },
      "source": [
        "def collate_fn(batch):\n",
        "    return tuple(zip(*batch))\n",
        "    \n",
        "def get_train_transform():\n",
        "    return A.Compose([\n",
        "        A.ShiftScaleRotate(shift_limit = 0.05, scale_limit=0.05, rotate_limit=10, p = 0.05),\n",
        "        A.Rotate(limit = 10, p = 0.05)\n",
        "        # A.GridDistortion(num_steps = 1, p = 0.05),\n",
        "        # A.Blur(blur_limit=1, p = 0.05)    \n",
        "    ])\n",
        "\n",
        "def get_valid_transform():\n",
        "    return A.Compose([\n",
        "        A.ShiftScaleRotate(shift_limit = 0.05, scale_limit=0.05, rotate_limit=10, p = 0.0),\n",
        "\n",
        "    ])\n",
        "\n",
        "\n",
        "train_dataset = DigitRecognizerDataset(train_df, transforms = get_train_transform())\n",
        "valid_dataset = DigitRecognizerDataset(valid_df, transforms = get_valid_transform())\n",
        "\n",
        "train_data_loader = DataLoader(\n",
        "    train_dataset,\n",
        "    batch_size = 128,\n",
        "    shuffle = True,\n",
        "    collate_fn = collate_fn)\n",
        "\n",
        "valid_data_loader = DataLoader(\n",
        "    valid_dataset,\n",
        "    batch_size = 64,\n",
        "    shuffle = True,\n",
        "    collate_fn = collate_fn)"
      ],
      "execution_count": 5,
      "outputs": []
    },
    {
      "cell_type": "code",
      "metadata": {
        "id": "XBTlXA-NsjLr"
      },
      "source": [
        "class CNNResBlock(nn.Module):\n",
        "\n",
        "  def __init__(self, in_channels, out_channels, kernel_size, padding = 1):\n",
        "    super(CNNResBlock, self).__init__()\n",
        "    self.cnn1 = nn.Conv2d(in_channels, out_channels, kernel_size=kernel_size, padding= padding)\n",
        "    self.batchnorm1 = nn.BatchNorm2d(out_channels)\n",
        "    self.relu = nn.ReLU()\n",
        "    self.cnn2 = nn.Conv2d(out_channels, out_channels, kernel_size = kernel_size, padding= padding)\n",
        "    self.batchnorm2 = nn.BatchNorm2d(out_channels)\n",
        "    self.relu = nn.ReLU()\n",
        "    self.cnn3 = nn.Conv2d(out_channels, out_channels, kernel_size = kernel_size, padding= padding)\n",
        "    self.batchnorm3 = nn.BatchNorm2d(out_channels)\n",
        "    self.relu = nn.ReLU()\n",
        "    self.cnn4 = nn.Conv2d(out_channels, out_channels, kernel_size = kernel_size, stride = 2, padding = 1)\n",
        "    self.batchnorm4 = nn.BatchNorm2d(out_channels)\n",
        "    self.dropout = nn.Dropout2d(0.3)\n",
        "\n",
        "\n",
        "  def forward(self, input):\n",
        "    \n",
        "    input1 = self.cnn1(input)\n",
        "    input1 = self.batchnorm1(input1)\n",
        "    input1 = self.relu(input1)\n",
        "\n",
        "    input2 = self.cnn2(input1)\n",
        "    input2 = self.batchnorm2(input2)\n",
        "    input2 = self.relu(input2)\n",
        "    input2 = self.dropout(input2)\n",
        "    \n",
        "    input3 = self.cnn3(input2)\n",
        "    input3 = self.batchnorm3(input3)\n",
        "    input3 = self.relu(input3)\n",
        "\n",
        "    input3 += input1\n",
        "\n",
        "    out = self.cnn4(input3)\n",
        "    out = self.batchnorm4(out)\n",
        "    out = self.relu(out)\n",
        "    return out\n",
        "\n"
      ],
      "execution_count": 6,
      "outputs": []
    },
    {
      "cell_type": "code",
      "metadata": {
        "id": "upZHvq2PlyXJ"
      },
      "source": [
        "class CNNBlock(nn.Module):\n",
        "\n",
        "  def __init__(self, in_channels, out_channels, kernel_size, padding = 0):\n",
        "    super(CNNBlock, self).__init__()\n",
        "    self.cnn = nn.Conv2d(in_channels, out_channels, kernel_size=kernel_size, padding= padding)\n",
        "    self.batchnorm = nn.BatchNorm2d(out_channels)\n",
        "    self.relu = nn.LeakyReLU()\n",
        "\n",
        "\n",
        "  def forward(self, input):\n",
        "    input = self.cnn(input)\n",
        "    input = self.batchnorm(input)\n",
        "    out = self.relu(input)\n",
        "    return out"
      ],
      "execution_count": 7,
      "outputs": []
    },
    {
      "cell_type": "code",
      "metadata": {
        "id": "6RtG3aOFtC1a"
      },
      "source": [
        "class Model(nn.Module):\n",
        "  \n",
        "  def __init__(self):\n",
        "    super(Model, self).__init__()\n",
        "    self.cnn1 = CNNBlock(in_channels = 1, out_channels = 32, kernel_size = 3)\n",
        "    self.cnn2 = CNNBlock(in_channels = 32, out_channels = 32, kernel_size = 3)\n",
        "    self.cnn3 = CNNBlock(in_channels = 32, out_channels = 64, kernel_size = 3)\n",
        "    self.cnn4 = CNNBlock(in_channels = 64, out_channels = 64, kernel_size = 3)\n",
        "    self.cnn5 = CNNBlock(in_channels = 64, out_channels = 128, kernel_size = 3)\n",
        "\n",
        "\n",
        "    self.maxpool1 = nn.MaxPool2d(kernel_size = 2, stride = 2)\n",
        "    self.maxpool2 = nn.MaxPool2d(kernel_size = 2, stride = 2)\n",
        "    \n",
        "    self.relu = nn.ReLU()\n",
        "    self.linear1 = nn.Linear(512, 100)\n",
        "    self.linear2 = nn.Linear(100, 10)\n",
        "    self.softmax = nn.Softmax(-1)\n",
        "    self.drop2d = nn.Dropout2d(0.4) \n",
        "    self.drop1d = nn.Dropout(.4)\n",
        "    self.batchnorm1d = nn.BatchNorm1d(100)\n",
        "\n",
        "  def forward(self, input):\n",
        "    input = input.unsqueeze(1)\n",
        "    \n",
        "    input = self.cnn1(input)\n",
        "    input = self.cnn2(input)\n",
        "    input = self.drop2d(input)\n",
        "    input = self.maxpool1(input) \n",
        "\n",
        "\n",
        "    input = self.cnn3(input)\n",
        "    input = self.cnn4(input)\n",
        "    input = self.drop2d(input)\n",
        "    input = self.maxpool2(input)\n",
        "    \n",
        "    input = self.cnn5(input)\n",
        "    input = torch.flatten(input, start_dim = 1, )\n",
        "\n",
        "    input = self.relu(self.linear1(input))\n",
        "    xgb = copy.copy(input)\n",
        "    input = self.batchnorm1d(input)\n",
        "    input = self.drop1d(input)\n",
        "    input = self.linear2(input)\n",
        "    out = self.softmax(input)\n",
        "    return out, xgb"
      ],
      "execution_count": 8,
      "outputs": []
    },
    {
      "cell_type": "code",
      "metadata": {
        "id": "kZ2Gm8LqGxEg"
      },
      "source": [
        "device = torch.device('cuda') if torch.cuda.is_available() else torch.device('cpu')\n",
        "# device = torch.device('cpu')"
      ],
      "execution_count": 9,
      "outputs": []
    },
    {
      "cell_type": "code",
      "metadata": {
        "id": "zz48E2o8G3iC"
      },
      "source": [
        "model = Model()\n",
        "model.to(device)\n",
        "# def init_weights(m):\n",
        "#     for name, param in m.named_parameters():\n",
        "#       nn.init.uniform_(param, -0.08, 0.08)\n",
        "# model.apply(init_weights)"
      ],
      "execution_count": null,
      "outputs": []
    },
    {
      "cell_type": "code",
      "metadata": {
        "id": "zIEK5BSlE9rx",
        "outputId": "3a491d7c-d13a-40f3-feb4-df4d53569289",
        "colab": {
          "base_uri": "https://localhost:8080/",
          "height": 684
        }
      },
      "source": [
        "# optimizer = torch.optim.Adam(model.parameters(), lr = 10**-4)\n",
        "# optimizer = torch.optim.SGD(model.parameters(), lr = 10**-4)\n",
        "loss_function = nn.CrossEntropyLoss()\n",
        "# scheduler = Scheduler(optimizer)\n",
        "# history_loss = []\n",
        "# history_train = []\n",
        "# history_val = []\n",
        "# max_val = 0\n",
        "epochs = 5\n",
        "for epoch in range(epochs):\n",
        "  for i, (images_dict, labels) in enumerate(train_data_loader):\n",
        "    model.train()\n",
        "    images = list(image['image'] for image in images_dict)\n",
        "    images = torch.FloatTensor(images).to(device)\n",
        "    labels = torch.LongTensor(labels).to(device)\n",
        "    predicts, _ = model(images)\n",
        "    loss = loss_function(predicts, labels)\n",
        "    optimizer.zero_grad()\n",
        "    loss.backward()\n",
        "    optimizer.step()\n",
        "    history_loss.append(loss)\n",
        "    if i % 5 == 0:\n",
        "      history_train.append(evaluate(train_data_loader))\n",
        "      history_val.append(evaluate(valid_data_loader))\n",
        "      print(f'i: {i}')\n",
        "      if history_val[-1] > max_val:\n",
        "        max_val = history_val[-1]\n",
        "        best_model = copy.deepcopy(model)\n",
        "      # scheduler.step(board = history_train[-1], i = i)\n",
        "    clear_output(True)\n",
        "    plt.plot(history_loss, label = 'loss')\n",
        "    plt.legend()\n",
        "    plt.show()\n",
        "    print(f'loss: {loss}')\n",
        "    print(f'accuracy train: {np.mean(history_train[-10:])}')\n",
        "    print(f'accuracy valid: {np.mean(history_val[-10:])}')\n",
        "    print(f'lr: {optimizer.param_groups[0][\"lr\"]}')"
      ],
      "execution_count": null,
      "outputs": [
        {
          "output_type": "display_data",
          "data": {
            "image/png": "[encoded data removed]",
            "text/plain": [
              "<Figure size 432x288 with 1 Axes>"
            ]
          },
          "metadata": {
            "tags": [],
            "needs_background": "light"
          }
        },
        {
          "output_type": "stream",
          "text": [
            "loss: 1.5517725944519043\n",
            "accuracy train: 0.96484375\n",
            "accuracy valid: 0.975\n",
            "lr: 5e-05\n"
          ],
          "name": "stdout"
        },
        {
          "output_type": "error",
          "ename": "KeyboardInterrupt",
          "evalue": "ignored",
          "traceback": [
            "\u001b[0;31m---------------------------------------------------------------------------\u001b[0m",
            "\u001b[0;31mKeyboardInterrupt\u001b[0m                         Traceback (most recent call last)",
            "\u001b[0;32m<ipython-input-130-3f09ae57d8d5>\u001b[0m in \u001b[0;36m<module>\u001b[0;34m()\u001b[0m\n\u001b[1;32m      9\u001b[0m \u001b[0mepochs\u001b[0m \u001b[0;34m=\u001b[0m \u001b[0;36m5\u001b[0m\u001b[0;34m\u001b[0m\u001b[0;34m\u001b[0m\u001b[0m\n\u001b[1;32m     10\u001b[0m \u001b[0;32mfor\u001b[0m \u001b[0mepoch\u001b[0m \u001b[0;32min\u001b[0m \u001b[0mrange\u001b[0m\u001b[0;34m(\u001b[0m\u001b[0mepochs\u001b[0m\u001b[0;34m)\u001b[0m\u001b[0;34m:\u001b[0m\u001b[0;34m\u001b[0m\u001b[0;34m\u001b[0m\u001b[0m\n\u001b[0;32m---> 11\u001b[0;31m   \u001b[0;32mfor\u001b[0m \u001b[0mi\u001b[0m\u001b[0;34m,\u001b[0m \u001b[0;34m(\u001b[0m\u001b[0mimages_dict\u001b[0m\u001b[0;34m,\u001b[0m \u001b[0mlabels\u001b[0m\u001b[0;34m)\u001b[0m \u001b[0;32min\u001b[0m \u001b[0menumerate\u001b[0m\u001b[0;34m(\u001b[0m\u001b[0mtrain_data_loader\u001b[0m\u001b[0;34m)\u001b[0m\u001b[0;34m:\u001b[0m\u001b[0;34m\u001b[0m\u001b[0;34m\u001b[0m\u001b[0m\n\u001b[0m\u001b[1;32m     12\u001b[0m     \u001b[0mmodel\u001b[0m\u001b[0;34m.\u001b[0m\u001b[0mtrain\u001b[0m\u001b[0;34m(\u001b[0m\u001b[0;34m)\u001b[0m\u001b[0;34m\u001b[0m\u001b[0;34m\u001b[0m\u001b[0m\n\u001b[1;32m     13\u001b[0m     \u001b[0mimages\u001b[0m \u001b[0;34m=\u001b[0m \u001b[0mlist\u001b[0m\u001b[0;34m(\u001b[0m\u001b[0mimage\u001b[0m\u001b[0;34m[\u001b[0m\u001b[0;34m'image'\u001b[0m\u001b[0;34m]\u001b[0m \u001b[0;32mfor\u001b[0m \u001b[0mimage\u001b[0m \u001b[0;32min\u001b[0m \u001b[0mimages_dict\u001b[0m\u001b[0;34m)\u001b[0m\u001b[0;34m\u001b[0m\u001b[0;34m\u001b[0m\u001b[0m\n",
            "\u001b[0;32m/usr/local/lib/python3.6/dist-packages/torch/utils/data/dataloader.py\u001b[0m in \u001b[0;36m__next__\u001b[0;34m(self)\u001b[0m\n\u001b[1;32m    361\u001b[0m \u001b[0;34m\u001b[0m\u001b[0m\n\u001b[1;32m    362\u001b[0m     \u001b[0;32mdef\u001b[0m \u001b[0m__next__\u001b[0m\u001b[0;34m(\u001b[0m\u001b[0mself\u001b[0m\u001b[0;34m)\u001b[0m\u001b[0;34m:\u001b[0m\u001b[0;34m\u001b[0m\u001b[0;34m\u001b[0m\u001b[0m\n\u001b[0;32m--> 363\u001b[0;31m         \u001b[0mdata\u001b[0m \u001b[0;34m=\u001b[0m \u001b[0mself\u001b[0m\u001b[0;34m.\u001b[0m\u001b[0m_next_data\u001b[0m\u001b[0;34m(\u001b[0m\u001b[0;34m)\u001b[0m\u001b[0;34m\u001b[0m\u001b[0;34m\u001b[0m\u001b[0m\n\u001b[0m\u001b[1;32m    364\u001b[0m         \u001b[0mself\u001b[0m\u001b[0;34m.\u001b[0m\u001b[0m_num_yielded\u001b[0m \u001b[0;34m+=\u001b[0m \u001b[0;36m1\u001b[0m\u001b[0;34m\u001b[0m\u001b[0;34m\u001b[0m\u001b[0m\n\u001b[1;32m    365\u001b[0m         \u001b[0;32mif\u001b[0m \u001b[0mself\u001b[0m\u001b[0;34m.\u001b[0m\u001b[0m_dataset_kind\u001b[0m \u001b[0;34m==\u001b[0m \u001b[0m_DatasetKind\u001b[0m\u001b[0;34m.\u001b[0m\u001b[0mIterable\u001b[0m \u001b[0;32mand\u001b[0m\u001b[0;31m \u001b[0m\u001b[0;31m\\\u001b[0m\u001b[0;34m\u001b[0m\u001b[0;34m\u001b[0m\u001b[0m\n",
            "\u001b[0;32m/usr/local/lib/python3.6/dist-packages/torch/utils/data/dataloader.py\u001b[0m in \u001b[0;36m_next_data\u001b[0;34m(self)\u001b[0m\n\u001b[1;32m    401\u001b[0m     \u001b[0;32mdef\u001b[0m \u001b[0m_next_data\u001b[0m\u001b[0;34m(\u001b[0m\u001b[0mself\u001b[0m\u001b[0;34m)\u001b[0m\u001b[0;34m:\u001b[0m\u001b[0;34m\u001b[0m\u001b[0;34m\u001b[0m\u001b[0m\n\u001b[1;32m    402\u001b[0m         \u001b[0mindex\u001b[0m \u001b[0;34m=\u001b[0m \u001b[0mself\u001b[0m\u001b[0;34m.\u001b[0m\u001b[0m_next_index\u001b[0m\u001b[0;34m(\u001b[0m\u001b[0;34m)\u001b[0m  \u001b[0;31m# may raise StopIteration\u001b[0m\u001b[0;34m\u001b[0m\u001b[0;34m\u001b[0m\u001b[0m\n\u001b[0;32m--> 403\u001b[0;31m         \u001b[0mdata\u001b[0m \u001b[0;34m=\u001b[0m \u001b[0mself\u001b[0m\u001b[0;34m.\u001b[0m\u001b[0m_dataset_fetcher\u001b[0m\u001b[0;34m.\u001b[0m\u001b[0mfetch\u001b[0m\u001b[0;34m(\u001b[0m\u001b[0mindex\u001b[0m\u001b[0;34m)\u001b[0m  \u001b[0;31m# may raise StopIteration\u001b[0m\u001b[0;34m\u001b[0m\u001b[0;34m\u001b[0m\u001b[0m\n\u001b[0m\u001b[1;32m    404\u001b[0m         \u001b[0;32mif\u001b[0m \u001b[0mself\u001b[0m\u001b[0;34m.\u001b[0m\u001b[0m_pin_memory\u001b[0m\u001b[0;34m:\u001b[0m\u001b[0;34m\u001b[0m\u001b[0;34m\u001b[0m\u001b[0m\n\u001b[1;32m    405\u001b[0m             \u001b[0mdata\u001b[0m \u001b[0;34m=\u001b[0m \u001b[0m_utils\u001b[0m\u001b[0;34m.\u001b[0m\u001b[0mpin_memory\u001b[0m\u001b[0;34m.\u001b[0m\u001b[0mpin_memory\u001b[0m\u001b[0;34m(\u001b[0m\u001b[0mdata\u001b[0m\u001b[0;34m)\u001b[0m\u001b[0;34m\u001b[0m\u001b[0;34m\u001b[0m\u001b[0m\n",
            "\u001b[0;32m/usr/local/lib/python3.6/dist-packages/torch/utils/data/_utils/fetch.py\u001b[0m in \u001b[0;36mfetch\u001b[0;34m(self, possibly_batched_index)\u001b[0m\n\u001b[1;32m     42\u001b[0m     \u001b[0;32mdef\u001b[0m \u001b[0mfetch\u001b[0m\u001b[0;34m(\u001b[0m\u001b[0mself\u001b[0m\u001b[0;34m,\u001b[0m \u001b[0mpossibly_batched_index\u001b[0m\u001b[0;34m)\u001b[0m\u001b[0;34m:\u001b[0m\u001b[0;34m\u001b[0m\u001b[0;34m\u001b[0m\u001b[0m\n\u001b[1;32m     43\u001b[0m         \u001b[0;32mif\u001b[0m \u001b[0mself\u001b[0m\u001b[0;34m.\u001b[0m\u001b[0mauto_collation\u001b[0m\u001b[0;34m:\u001b[0m\u001b[0;34m\u001b[0m\u001b[0;34m\u001b[0m\u001b[0m\n\u001b[0;32m---> 44\u001b[0;31m             \u001b[0mdata\u001b[0m \u001b[0;34m=\u001b[0m \u001b[0;34m[\u001b[0m\u001b[0mself\u001b[0m\u001b[0;34m.\u001b[0m\u001b[0mdataset\u001b[0m\u001b[0;34m[\u001b[0m\u001b[0midx\u001b[0m\u001b[0;34m]\u001b[0m \u001b[0;32mfor\u001b[0m \u001b[0midx\u001b[0m \u001b[0;32min\u001b[0m \u001b[0mpossibly_batched_index\u001b[0m\u001b[0;34m]\u001b[0m\u001b[0;34m\u001b[0m\u001b[0;34m\u001b[0m\u001b[0m\n\u001b[0m\u001b[1;32m     45\u001b[0m         \u001b[0;32melse\u001b[0m\u001b[0;34m:\u001b[0m\u001b[0;34m\u001b[0m\u001b[0;34m\u001b[0m\u001b[0m\n\u001b[1;32m     46\u001b[0m             \u001b[0mdata\u001b[0m \u001b[0;34m=\u001b[0m \u001b[0mself\u001b[0m\u001b[0;34m.\u001b[0m\u001b[0mdataset\u001b[0m\u001b[0;34m[\u001b[0m\u001b[0mpossibly_batched_index\u001b[0m\u001b[0;34m]\u001b[0m\u001b[0;34m\u001b[0m\u001b[0;34m\u001b[0m\u001b[0m\n",
            "\u001b[0;32m/usr/local/lib/python3.6/dist-packages/torch/utils/data/_utils/fetch.py\u001b[0m in \u001b[0;36m<listcomp>\u001b[0;34m(.0)\u001b[0m\n\u001b[1;32m     42\u001b[0m     \u001b[0;32mdef\u001b[0m \u001b[0mfetch\u001b[0m\u001b[0;34m(\u001b[0m\u001b[0mself\u001b[0m\u001b[0;34m,\u001b[0m \u001b[0mpossibly_batched_index\u001b[0m\u001b[0;34m)\u001b[0m\u001b[0;34m:\u001b[0m\u001b[0;34m\u001b[0m\u001b[0;34m\u001b[0m\u001b[0m\n\u001b[1;32m     43\u001b[0m         \u001b[0;32mif\u001b[0m \u001b[0mself\u001b[0m\u001b[0;34m.\u001b[0m\u001b[0mauto_collation\u001b[0m\u001b[0;34m:\u001b[0m\u001b[0;34m\u001b[0m\u001b[0;34m\u001b[0m\u001b[0m\n\u001b[0;32m---> 44\u001b[0;31m             \u001b[0mdata\u001b[0m \u001b[0;34m=\u001b[0m \u001b[0;34m[\u001b[0m\u001b[0mself\u001b[0m\u001b[0;34m.\u001b[0m\u001b[0mdataset\u001b[0m\u001b[0;34m[\u001b[0m\u001b[0midx\u001b[0m\u001b[0;34m]\u001b[0m \u001b[0;32mfor\u001b[0m \u001b[0midx\u001b[0m \u001b[0;32min\u001b[0m \u001b[0mpossibly_batched_index\u001b[0m\u001b[0;34m]\u001b[0m\u001b[0;34m\u001b[0m\u001b[0;34m\u001b[0m\u001b[0m\n\u001b[0m\u001b[1;32m     45\u001b[0m         \u001b[0;32melse\u001b[0m\u001b[0;34m:\u001b[0m\u001b[0;34m\u001b[0m\u001b[0;34m\u001b[0m\u001b[0m\n\u001b[1;32m     46\u001b[0m             \u001b[0mdata\u001b[0m \u001b[0;34m=\u001b[0m \u001b[0mself\u001b[0m\u001b[0;34m.\u001b[0m\u001b[0mdataset\u001b[0m\u001b[0;34m[\u001b[0m\u001b[0mpossibly_batched_index\u001b[0m\u001b[0;34m]\u001b[0m\u001b[0;34m\u001b[0m\u001b[0;34m\u001b[0m\u001b[0m\n",
            "\u001b[0;32m<ipython-input-4-d29247b4ab27>\u001b[0m in \u001b[0;36m__getitem__\u001b[0;34m(self, idx)\u001b[0m\n\u001b[1;32m     10\u001b[0m   \u001b[0;32mdef\u001b[0m \u001b[0m__getitem__\u001b[0m\u001b[0;34m(\u001b[0m\u001b[0mself\u001b[0m\u001b[0;34m,\u001b[0m \u001b[0midx\u001b[0m\u001b[0;34m)\u001b[0m\u001b[0;34m:\u001b[0m\u001b[0;34m\u001b[0m\u001b[0;34m\u001b[0m\u001b[0m\n\u001b[1;32m     11\u001b[0m     \u001b[0mimage\u001b[0m \u001b[0;34m=\u001b[0m \u001b[0mnp\u001b[0m\u001b[0;34m.\u001b[0m\u001b[0marray\u001b[0m\u001b[0;34m(\u001b[0m\u001b[0mself\u001b[0m\u001b[0;34m.\u001b[0m\u001b[0mdf\u001b[0m\u001b[0;34m[\u001b[0m\u001b[0mself\u001b[0m\u001b[0;34m.\u001b[0m\u001b[0mimage_columns\u001b[0m\u001b[0;34m]\u001b[0m\u001b[0;34m.\u001b[0m\u001b[0miloc\u001b[0m\u001b[0;34m[\u001b[0m\u001b[0midx\u001b[0m\u001b[0;34m]\u001b[0m\u001b[0;34m)\u001b[0m\u001b[0;34m.\u001b[0m\u001b[0mreshape\u001b[0m\u001b[0;34m(\u001b[0m\u001b[0;36m28\u001b[0m\u001b[0;34m,\u001b[0m \u001b[0;36m28\u001b[0m\u001b[0;34m)\u001b[0m \u001b[0;34m/\u001b[0m \u001b[0;36m255.\u001b[0m\u001b[0;34m\u001b[0m\u001b[0;34m\u001b[0m\u001b[0m\n\u001b[0;32m---> 12\u001b[0;31m     \u001b[0mlabel\u001b[0m \u001b[0;34m=\u001b[0m \u001b[0mself\u001b[0m\u001b[0;34m.\u001b[0m\u001b[0mdf\u001b[0m\u001b[0;34m.\u001b[0m\u001b[0miloc\u001b[0m\u001b[0;34m[\u001b[0m\u001b[0midx\u001b[0m\u001b[0;34m]\u001b[0m\u001b[0;34m[\u001b[0m\u001b[0mself\u001b[0m\u001b[0;34m.\u001b[0m\u001b[0mtarget_column\u001b[0m\u001b[0;34m]\u001b[0m\u001b[0;34m\u001b[0m\u001b[0;34m\u001b[0m\u001b[0m\n\u001b[0m\u001b[1;32m     13\u001b[0m     \u001b[0;32mif\u001b[0m \u001b[0mself\u001b[0m\u001b[0;34m.\u001b[0m\u001b[0mtransforms\u001b[0m\u001b[0;34m:\u001b[0m\u001b[0;34m\u001b[0m\u001b[0;34m\u001b[0m\u001b[0m\n\u001b[1;32m     14\u001b[0m       \u001b[0mimage\u001b[0m \u001b[0;34m=\u001b[0m \u001b[0mself\u001b[0m\u001b[0;34m.\u001b[0m\u001b[0mtransforms\u001b[0m\u001b[0;34m(\u001b[0m\u001b[0mimage\u001b[0m \u001b[0;34m=\u001b[0m \u001b[0mimage\u001b[0m\u001b[0;34m)\u001b[0m\u001b[0;34m\u001b[0m\u001b[0;34m\u001b[0m\u001b[0m\n",
            "\u001b[0;32m/usr/local/lib/python3.6/dist-packages/pandas/core/indexing.py\u001b[0m in \u001b[0;36m__getitem__\u001b[0;34m(self, key)\u001b[0m\n\u001b[1;32m    877\u001b[0m \u001b[0;34m\u001b[0m\u001b[0m\n\u001b[1;32m    878\u001b[0m             \u001b[0mmaybe_callable\u001b[0m \u001b[0;34m=\u001b[0m \u001b[0mcom\u001b[0m\u001b[0;34m.\u001b[0m\u001b[0mapply_if_callable\u001b[0m\u001b[0;34m(\u001b[0m\u001b[0mkey\u001b[0m\u001b[0;34m,\u001b[0m \u001b[0mself\u001b[0m\u001b[0;34m.\u001b[0m\u001b[0mobj\u001b[0m\u001b[0;34m)\u001b[0m\u001b[0;34m\u001b[0m\u001b[0;34m\u001b[0m\u001b[0m\n\u001b[0;32m--> 879\u001b[0;31m             \u001b[0;32mreturn\u001b[0m \u001b[0mself\u001b[0m\u001b[0;34m.\u001b[0m\u001b[0m_getitem_axis\u001b[0m\u001b[0;34m(\u001b[0m\u001b[0mmaybe_callable\u001b[0m\u001b[0;34m,\u001b[0m \u001b[0maxis\u001b[0m\u001b[0;34m=\u001b[0m\u001b[0maxis\u001b[0m\u001b[0;34m)\u001b[0m\u001b[0;34m\u001b[0m\u001b[0;34m\u001b[0m\u001b[0m\n\u001b[0m\u001b[1;32m    880\u001b[0m \u001b[0;34m\u001b[0m\u001b[0m\n\u001b[1;32m    881\u001b[0m     \u001b[0;32mdef\u001b[0m \u001b[0m_is_scalar_access\u001b[0m\u001b[0;34m(\u001b[0m\u001b[0mself\u001b[0m\u001b[0;34m,\u001b[0m \u001b[0mkey\u001b[0m\u001b[0;34m:\u001b[0m \u001b[0mTuple\u001b[0m\u001b[0;34m)\u001b[0m\u001b[0;34m:\u001b[0m\u001b[0;34m\u001b[0m\u001b[0;34m\u001b[0m\u001b[0m\n",
            "\u001b[0;32m/usr/local/lib/python3.6/dist-packages/pandas/core/indexing.py\u001b[0m in \u001b[0;36m_getitem_axis\u001b[0;34m(self, key, axis)\u001b[0m\n\u001b[1;32m   1496\u001b[0m             \u001b[0mself\u001b[0m\u001b[0;34m.\u001b[0m\u001b[0m_validate_integer\u001b[0m\u001b[0;34m(\u001b[0m\u001b[0mkey\u001b[0m\u001b[0;34m,\u001b[0m \u001b[0maxis\u001b[0m\u001b[0;34m)\u001b[0m\u001b[0;34m\u001b[0m\u001b[0;34m\u001b[0m\u001b[0m\n\u001b[1;32m   1497\u001b[0m \u001b[0;34m\u001b[0m\u001b[0m\n\u001b[0;32m-> 1498\u001b[0;31m             \u001b[0;32mreturn\u001b[0m \u001b[0mself\u001b[0m\u001b[0;34m.\u001b[0m\u001b[0mobj\u001b[0m\u001b[0;34m.\u001b[0m\u001b[0m_ixs\u001b[0m\u001b[0;34m(\u001b[0m\u001b[0mkey\u001b[0m\u001b[0;34m,\u001b[0m \u001b[0maxis\u001b[0m\u001b[0;34m=\u001b[0m\u001b[0maxis\u001b[0m\u001b[0;34m)\u001b[0m\u001b[0;34m\u001b[0m\u001b[0;34m\u001b[0m\u001b[0m\n\u001b[0m\u001b[1;32m   1499\u001b[0m \u001b[0;34m\u001b[0m\u001b[0m\n\u001b[1;32m   1500\u001b[0m     \u001b[0;32mdef\u001b[0m \u001b[0m_get_slice_axis\u001b[0m\u001b[0;34m(\u001b[0m\u001b[0mself\u001b[0m\u001b[0;34m,\u001b[0m \u001b[0mslice_obj\u001b[0m\u001b[0;34m:\u001b[0m \u001b[0mslice\u001b[0m\u001b[0;34m,\u001b[0m \u001b[0maxis\u001b[0m\u001b[0;34m:\u001b[0m \u001b[0mint\u001b[0m\u001b[0;34m)\u001b[0m\u001b[0;34m:\u001b[0m\u001b[0;34m\u001b[0m\u001b[0;34m\u001b[0m\u001b[0m\n",
            "\u001b[0;32m/usr/local/lib/python3.6/dist-packages/pandas/core/frame.py\u001b[0m in \u001b[0;36m_ixs\u001b[0;34m(self, i, axis)\u001b[0m\n\u001b[1;32m   2834\u001b[0m                 \u001b[0mnew_values\u001b[0m\u001b[0;34m,\u001b[0m\u001b[0;34m\u001b[0m\u001b[0;34m\u001b[0m\u001b[0m\n\u001b[1;32m   2835\u001b[0m                 \u001b[0mindex\u001b[0m\u001b[0;34m=\u001b[0m\u001b[0mself\u001b[0m\u001b[0;34m.\u001b[0m\u001b[0mcolumns\u001b[0m\u001b[0;34m,\u001b[0m\u001b[0;34m\u001b[0m\u001b[0;34m\u001b[0m\u001b[0m\n\u001b[0;32m-> 2836\u001b[0;31m                 \u001b[0mname\u001b[0m\u001b[0;34m=\u001b[0m\u001b[0mself\u001b[0m\u001b[0;34m.\u001b[0m\u001b[0mindex\u001b[0m\u001b[0;34m[\u001b[0m\u001b[0mi\u001b[0m\u001b[0;34m]\u001b[0m\u001b[0;34m,\u001b[0m\u001b[0;34m\u001b[0m\u001b[0;34m\u001b[0m\u001b[0m\n\u001b[0m\u001b[1;32m   2837\u001b[0m                 \u001b[0mdtype\u001b[0m\u001b[0;34m=\u001b[0m\u001b[0mnew_values\u001b[0m\u001b[0;34m.\u001b[0m\u001b[0mdtype\u001b[0m\u001b[0;34m,\u001b[0m\u001b[0;34m\u001b[0m\u001b[0;34m\u001b[0m\u001b[0m\n\u001b[1;32m   2838\u001b[0m             )\n",
            "\u001b[0;31mKeyboardInterrupt\u001b[0m: "
          ]
        }
      ]
    },
    {
      "cell_type": "code",
      "metadata": {
        "id": "OY_Sb61THOnX"
      },
      "source": [
        "def evaluate (data_loader):\n",
        "  model.eval()\n",
        "  input_dict, labels = next(iter(data_loader))\n",
        "  input = list(image['image'] for image in input_dict)\n",
        "  input = torch.FloatTensor(input).to(device)\n",
        "  predicts, _ = model(input)\n",
        "  return accuracy_score(labels, np.argmax(predicts.cpu().detach().numpy(), axis = 1))"
      ],
      "execution_count": null,
      "outputs": []
    },
    {
      "cell_type": "code",
      "metadata": {
        "id": "fOqsM6X6iZp3"
      },
      "source": [
        "class Scheduler:\n",
        "\n",
        "  def __init__(self, optimizer, p = 0.005):\n",
        "    self.optimizer = optimizer\n",
        "    self.p = p\n",
        "\n",
        "  def step(self, board, i, threshold_i = 50, threshold = 0.5, k_up = 1.1, k_down = 0.99):\n",
        "    if board < threshold and i < threshold_i:\n",
        "      print('Up')\n",
        "      k = 1.1 + (0.5 - board) * 0.1\n",
        "    else:\n",
        "      rnd = random.random()\n",
        "      if rnd < self.p:\n",
        "        k = k_up\n",
        "      else:\n",
        "        print('down')\n",
        "        k = k_down  \n",
        "    for idx_group in range(len(self.optimizer.param_groups)):\n",
        "      self.optimizer.param_groups[0]['lr'] *= k  \n",
        "    print(f'k:{k}')    "
      ],
      "execution_count": null,
      "outputs": []
    },
    {
      "cell_type": "code",
      "metadata": {
        "id": "kvqJAM_gthlU",
        "outputId": "809f2d43-5f15-4446-a32e-ad719376b887",
        "colab": {
          "base_uri": "https://localhost:8080/",
          "height": 281
        }
      },
      "source": [
        "plt.plot(history_val)"
      ],
      "execution_count": null,
      "outputs": [
        {
          "output_type": "execute_result",
          "data": {
            "text/plain": [
              "[<matplotlib.lines.Line2D at 0x7f6974ea7f28>]"
            ]
          },
          "metadata": {
            "tags": []
          },
          "execution_count": 170
        },
        {
          "output_type": "display_data",
          "data": {
            "image/png": "[encoded data removed]",
            "text/plain": [
              "<Figure size 432x288 with 1 Axes>"
            ]
          },
          "metadata": {
            "tags": [],
            "needs_background": "light"
          }
        }
      ]
    },
    {
      "cell_type": "code",
      "metadata": {
        "id": "-eskYuvlpTKD"
      },
      "source": [
        "model = best_model"
      ],
      "execution_count": null,
      "outputs": []
    },
    {
      "cell_type": "code",
      "metadata": {
        "id": "Ga2WUnwxaEEe"
      },
      "source": [
        "torch.save(model.state_dict(), f'{DIR_INPUT}/model.pth')"
      ],
      "execution_count": null,
      "outputs": []
    },
    {
      "cell_type": "code",
      "metadata": {
        "id": "0wyGHvXnWF6J",
        "outputId": "89588e02-4780-4b3b-8baa-0703969095bb",
        "colab": {
          "base_uri": "https://localhost:8080/",
          "height": 619
        }
      },
      "source": [
        "model.load_state_dict(torch.load(f'{DIR_INPUT}/model.pth'))\n",
        "model.to(device)"
      ],
      "execution_count": null,
      "outputs": [
        {
          "output_type": "execute_result",
          "data": {
            "text/plain": [
              "Model(\n",
              "  (cnn1): CNNBlock(\n",
              "    (cnn): Conv2d(1, 32, kernel_size=(3, 3), stride=(1, 1))\n",
              "    (batchnorm): BatchNorm2d(32, eps=1e-05, momentum=0.1, affine=True, track_running_stats=True)\n",
              "    (relu): LeakyReLU(negative_slope=0.01)\n",
              "  )\n",
              "  (cnn2): CNNBlock(\n",
              "    (cnn): Conv2d(32, 32, kernel_size=(3, 3), stride=(1, 1))\n",
              "    (batchnorm): BatchNorm2d(32, eps=1e-05, momentum=0.1, affine=True, track_running_stats=True)\n",
              "    (relu): LeakyReLU(negative_slope=0.01)\n",
              "  )\n",
              "  (cnn3): CNNBlock(\n",
              "    (cnn): Conv2d(32, 64, kernel_size=(3, 3), stride=(1, 1))\n",
              "    (batchnorm): BatchNorm2d(64, eps=1e-05, momentum=0.1, affine=True, track_running_stats=True)\n",
              "    (relu): LeakyReLU(negative_slope=0.01)\n",
              "  )\n",
              "  (cnn4): CNNBlock(\n",
              "    (cnn): Conv2d(64, 64, kernel_size=(3, 3), stride=(1, 1))\n",
              "    (batchnorm): BatchNorm2d(64, eps=1e-05, momentum=0.1, affine=True, track_running_stats=True)\n",
              "    (relu): LeakyReLU(negative_slope=0.01)\n",
              "  )\n",
              "  (cnn5): CNNBlock(\n",
              "    (cnn): Conv2d(64, 128, kernel_size=(3, 3), stride=(1, 1))\n",
              "    (batchnorm): BatchNorm2d(128, eps=1e-05, momentum=0.1, affine=True, track_running_stats=True)\n",
              "    (relu): LeakyReLU(negative_slope=0.01)\n",
              "  )\n",
              "  (maxpool1): MaxPool2d(kernel_size=2, stride=2, padding=0, dilation=1, ceil_mode=False)\n",
              "  (maxpool2): MaxPool2d(kernel_size=2, stride=2, padding=0, dilation=1, ceil_mode=False)\n",
              "  (relu): ReLU()\n",
              "  (linear1): Linear(in_features=512, out_features=100, bias=True)\n",
              "  (linear2): Linear(in_features=100, out_features=10, bias=True)\n",
              "  (softmax): Softmax(dim=-1)\n",
              "  (drop2d): Dropout2d(p=0.4, inplace=False)\n",
              "  (drop1d): Dropout(p=0.4, inplace=False)\n",
              "  (batchnorm1d): BatchNorm1d(100, eps=1e-05, momentum=0.1, affine=True, track_running_stats=True)\n",
              ")"
            ]
          },
          "metadata": {
            "tags": []
          },
          "execution_count": 129
        }
      ]
    },
    {
      "cell_type": "code",
      "metadata": {
        "id": "KBKLGlzp4fv_"
      },
      "source": [
        "def get_tensor_from_df(df):\n",
        "  df = df / 255.\n",
        "  df_array = df.values.reshape(-1,28,28)\n",
        "  tensor = torch.FloatTensor(df_array).to(device)\n",
        "  return tensor"
      ],
      "execution_count": null,
      "outputs": []
    },
    {
      "cell_type": "code",
      "metadata": {
        "id": "_ikqAeM_4f4Q"
      },
      "source": [
        "def make_submit_file(test_df, labels = None):\n",
        "  if labels is None:\n",
        "    predicts, _ = get_predict(test_df)\n",
        "    labels = np.argmax(predicts, axis = 1)\n",
        "  labels = pd.Series(labels, name = 'Label')\n",
        "  submission = pd.concat([pd.Series(range(1,test_df.shape[0] + 1), name = 'ImageId'), labels], axis = 1)\n",
        "  submission.to_csv(f'{DIR_INPUT}/submission.csv', index = False)"
      ],
      "execution_count": null,
      "outputs": []
    },
    {
      "cell_type": "code",
      "metadata": {
        "id": "Zp0RmwnYmVKa"
      },
      "source": [
        "def get_predict(df):\n",
        "  columns = list(filter(lambda x: x[:5] == 'pixel', df.columns))\n",
        "  tensor = get_tensor_from_df(df[columns])\n",
        "  model.eval()\n",
        "  predicts, features = model(tensor[:1000])\n",
        "  predicts = predicts.cpu().detach().numpy()\n",
        "  features = features.cpu().detach().numpy()\n",
        "  end_of_range = df.shape[0] //1000 + 2\n",
        "  for i in range(2, end_of_range):\n",
        "    predicts = np.concatenate([predicts, model(tensor[1000 * (i - 1):1000 * i])[0].cpu().detach().numpy()], axis = 0)\n",
        "    features = np.concatenate([features, model(tensor[1000 * (i - 1):1000 * i])[1].cpu().detach().numpy()], axis = 0)\n",
        "  return predicts, features"
      ],
      "execution_count": null,
      "outputs": []
    },
    {
      "cell_type": "code",
      "metadata": {
        "id": "l4f6AoiAmI8L"
      },
      "source": [
        "def plot_confusion_matrix(cm, classes,\n",
        "                          normalize=False,\n",
        "                          title='Confusion matrix',\n",
        "                          cmap=plt.cm.Blues):\n",
        "    plt.figure(figsize=(7,7))\n",
        "    plt.imshow(cm, interpolation='nearest', cmap=cmap, )\n",
        "    plt.title(title)\n",
        "    plt.colorbar()\n",
        "    tick_marks = np.arange(len(classes))\n",
        "    plt.xticks(tick_marks, classes, rotation=45)\n",
        "    plt.yticks(tick_marks, classes)\n",
        "\n",
        "    if normalize:\n",
        "        cm = cm.astype('float') / cm.sum(axis=1)[:, np.newaxis]\n",
        "\n",
        "    thresh = cm.max() / 2.\n",
        "    for i, j in itertools.product(range(cm.shape[0]), range(cm.shape[1])):\n",
        "        plt.text(j, i, cm[i, j],\n",
        "                 horizontalalignment=\"center\",\n",
        "                 color=\"white\" if cm[i, j] > thresh else \"black\")\n",
        "\n",
        "    plt.tight_layout()\n",
        "    plt.ylabel('True label')\n",
        "    plt.xlabel('Predicted label')"
      ],
      "execution_count": null,
      "outputs": []
    },
    {
      "cell_type": "code",
      "metadata": {
        "id": "f4hjbIMAoFmk",
        "outputId": "80d96948-b5e2-4bbe-c2f2-0e562b5847df",
        "colab": {
          "base_uri": "https://localhost:8080/",
          "height": 513
        }
      },
      "source": [
        " plot_confusion_matrix(confusion_matrix(valid_df['label'], np.argmax(get_predict(valid_df)[0], axis = 1)), \n",
        "                       classes = range(10))"
      ],
      "execution_count": null,
      "outputs": [
        {
          "output_type": "display_data",
          "data": {
            "image/png": "[encoded data removed]",
            "text/plain": [
              "<Figure size 504x504 with 2 Axes>"
            ]
          },
          "metadata": {
            "tags": [],
            "needs_background": "light"
          }
        }
      ]
    },
    {
      "cell_type": "code",
      "metadata": {
        "id": "iwDTMl3_s2JF"
      },
      "source": [
        "def show_photo(df, idx):\n",
        "  plt.imshow(df[df.columns.drop('label')].iloc[idx].values.reshape(28,28), cmap = 'gray')\n",
        "\n",
        "class MissPredicts:\n",
        "\n",
        "  def __init__(self, df, target_column = 'label'):\n",
        "    predicts, _ = get_predict(df)\n",
        "    self.predicts = np.argmax(predicts, axis = 1)\n",
        "    self.df_miss_predicts = df.loc[df[target_column] != self.predicts]\n",
        "    self.target_column = target_column\n",
        "\n",
        "  def __getitem__(self, idx):\n",
        "    show_photo(self.df_miss_predicts, idx)\n",
        "    true_idx = self.df_miss_predicts[self.target_column].iloc[idx]\n",
        "    predict_idx = self.predicts[idx]\n",
        "    print(f'True: {true_idx}')\n",
        "    print(f'Predict: {predict_idx}')\n",
        "  \n",
        "\n",
        "  def __len__(self):\n",
        "    return self.df_miss_predicts.shape[0]"
      ],
      "execution_count": null,
      "outputs": []
    },
    {
      "cell_type": "code",
      "metadata": {
        "id": "hD-B1fDwtswW"
      },
      "source": [
        "miss_predicts = MissPredicts(valid_df)"
      ],
      "execution_count": null,
      "outputs": []
    },
    {
      "cell_type": "code",
      "metadata": {
        "id": "3TQZ1zr1watd"
      },
      "source": [
        "def add_features(df):\n",
        "  df = df.reset_index().drop('index', axis = 1)\n",
        "  predicts = get_predict(df)[1]\n",
        "  pd_feature = pd.DataFrame(predicts, columns = [f'feature_{i}' for i in range(predicts.shape[1])])\n",
        "  return pd.concat([df, pd_feature], axis = 1)"
      ],
      "execution_count": null,
      "outputs": []
    },
    {
      "cell_type": "code",
      "metadata": {
        "id": "hd2cZoW7yfqY"
      },
      "source": [
        "train_df = add_features(train_df)\n",
        "valid_df = add_features(valid_df)\n",
        "# test_df = add_features(test_df)"
      ],
      "execution_count": null,
      "outputs": []
    },
    {
      "cell_type": "code",
      "metadata": {
        "id": "7rnnnYpu05Ps"
      },
      "source": [
        "forest = RandomForestClassifier()"
      ],
      "execution_count": null,
      "outputs": []
    },
    {
      "cell_type": "code",
      "metadata": {
        "id": "i1tdVnqp05SD"
      },
      "source": [
        "tree_columns = list(filter(lambda x: x[:8] == 'feature_', train_df.columns))"
      ],
      "execution_count": null,
      "outputs": []
    },
    {
      "cell_type": "code",
      "metadata": {
        "id": "t2lRwiyx2OpY",
        "outputId": "3570fc1a-78d7-4f86-83c6-a120ae0977f3",
        "colab": {
          "base_uri": "https://localhost:8080/",
          "height": 150
        }
      },
      "source": [
        "forest.fit(train_df[tree_columns], train_df['label'])"
      ],
      "execution_count": null,
      "outputs": [
        {
          "output_type": "execute_result",
          "data": {
            "text/plain": [
              "RandomForestClassifier(bootstrap=True, ccp_alpha=0.0, class_weight=None,\n",
              "                       criterion='gini', max_depth=None, max_features='auto',\n",
              "                       max_leaf_nodes=None, max_samples=None,\n",
              "                       min_impurity_decrease=0.0, min_impurity_split=None,\n",
              "                       min_samples_leaf=1, min_samples_split=2,\n",
              "                       min_weight_fraction_leaf=0.0, n_estimators=100,\n",
              "                       n_jobs=None, oob_score=False, random_state=None,\n",
              "                       verbose=0, warm_start=False)"
            ]
          },
          "metadata": {
            "tags": []
          },
          "execution_count": 150
        }
      ]
    },
    {
      "cell_type": "code",
      "metadata": {
        "id": "eRrtGyKw2zea",
        "outputId": "51ceb261-184e-413b-c7fd-3256cdec210f",
        "colab": {
          "base_uri": "https://localhost:8080/",
          "height": 33
        }
      },
      "source": [
        "accuracy_score(valid_df['label'], forest.predict(valid_df[tree_columns]))"
      ],
      "execution_count": null,
      "outputs": [
        {
          "output_type": "execute_result",
          "data": {
            "text/plain": [
              "0.9804761904761905"
            ]
          },
          "metadata": {
            "tags": []
          },
          "execution_count": 153
        }
      ]
    },
    {
      "cell_type": "code",
      "metadata": {
        "id": "nMicSepu4coX",
        "outputId": "60f0ad42-d2ad-4cea-9f1e-142b0b50cc35",
        "colab": {
          "base_uri": "https://localhost:8080/",
          "height": 33
        }
      },
      "source": [
        "accuracy_score(train_df['label'], forest.predict(train_df[tree_columns]))"
      ],
      "execution_count": null,
      "outputs": [
        {
          "output_type": "execute_result",
          "data": {
            "text/plain": [
              "1.0"
            ]
          },
          "metadata": {
            "tags": []
          },
          "execution_count": 154
        }
      ]
    },
    {
      "cell_type": "code",
      "metadata": {
        "id": "-lG3lOMz5iF5",
        "outputId": "c7b47d05-89f0-4195-da8e-820cd2bb9028",
        "colab": {
          "base_uri": "https://localhost:8080/",
          "height": 33
        }
      },
      "source": [
        "accuracy_score(valid_df['label'], np.argmax(get_predict(valid_df)[0] + forest.predict_proba(valid_df[tree_columns]), axis = 1))"
      ],
      "execution_count": null,
      "outputs": [
        {
          "output_type": "execute_result",
          "data": {
            "text/plain": [
              "0.9742857142857143"
            ]
          },
          "metadata": {
            "tags": []
          },
          "execution_count": 155
        }
      ]
    },
    {
      "cell_type": "code",
      "metadata": {
        "id": "Yy1EiYazBYN6",
        "outputId": "26d9cde8-e7a5-4a81-a38e-9af0a288b853",
        "colab": {
          "base_uri": "https://localhost:8080/",
          "height": 33
        }
      },
      "source": [
        "accuracy_score(valid_df['label'], np.argmax(get_predict(valid_df)[0], axis = 1))"
      ],
      "execution_count": null,
      "outputs": [
        {
          "output_type": "execute_result",
          "data": {
            "text/plain": [
              "0.964047619047619"
            ]
          },
          "metadata": {
            "tags": []
          },
          "execution_count": 173
        }
      ]
    },
    {
      "cell_type": "code",
      "metadata": {
        "id": "hcc-RALTHG0o",
        "outputId": "c2660c6e-237b-42b5-dd80-d1b177e1799a",
        "colab": {
          "base_uri": "https://localhost:8080/",
          "height": 33
        }
      },
      "source": [
        "len(tree_columns)"
      ],
      "execution_count": null,
      "outputs": [
        {
          "output_type": "execute_result",
          "data": {
            "text/plain": [
              "100"
            ]
          },
          "metadata": {
            "tags": []
          },
          "execution_count": 152
        }
      ]
    },
    {
      "cell_type": "code",
      "metadata": {
        "id": "M_6H01uUIH7V"
      },
      "source": [
        "dtrain = xgb.DMatrix(train_df[tree_columns], train_df['label'])\n",
        "dfvalid = xgb.DMatrix(valid_df[tree_columns], valid_df['label'])"
      ],
      "execution_count": null,
      "outputs": []
    },
    {
      "cell_type": "code",
      "metadata": {
        "id": "PHTXTeo7IJH5"
      },
      "source": [
        "params = {\n",
        "    'max_depth': 3,\n",
        "    'silent': 1,\n",
        "    'eta': 0.3,\n",
        "    'subsample': 0.7,\n",
        "    'colsample_bytree': 0.7\n",
        "}\n",
        "params['num_class'] = 10\n",
        "params['objective'] = 'multi:softprob'\n",
        "num_rounds = 50"
      ],
      "execution_count": null,
      "outputs": []
    },
    {
      "cell_type": "code",
      "metadata": {
        "id": "GWPZ8VqgIJJ8",
        "outputId": "95eb0b8c-78a7-44a2-f6dc-31f46d2f6af6",
        "colab": {
          "base_uri": "https://localhost:8080/",
          "height": 853
        }
      },
      "source": [
        "watchlist  = [(dfvalid,'test'), (dtrain,'train')] \n",
        "xgb_model = xgb.train(params, dtrain, num_rounds, watchlist)"
      ],
      "execution_count": null,
      "outputs": [
        {
          "output_type": "stream",
          "text": [
            "[0]\ttest-merror:0.069286\ttrain-merror:0.06172\n",
            "[1]\ttest-merror:0.040952\ttrain-merror:0.035688\n",
            "[2]\ttest-merror:0.038333\ttrain-merror:0.033386\n",
            "[3]\ttest-merror:0.034048\ttrain-merror:0.030476\n",
            "[4]\ttest-merror:0.030952\ttrain-merror:0.028228\n",
            "[5]\ttest-merror:0.029524\ttrain-merror:0.027143\n",
            "[6]\ttest-merror:0.029048\ttrain-merror:0.025926\n",
            "[7]\ttest-merror:0.027381\ttrain-merror:0.025159\n",
            "[8]\ttest-merror:0.027143\ttrain-merror:0.02381\n",
            "[9]\ttest-merror:0.026905\ttrain-merror:0.022884\n",
            "[10]\ttest-merror:0.025952\ttrain-merror:0.022037\n",
            "[11]\ttest-merror:0.025952\ttrain-merror:0.021323\n",
            "[12]\ttest-merror:0.025952\ttrain-merror:0.020608\n",
            "[13]\ttest-merror:0.026429\ttrain-merror:0.020026\n",
            "[14]\ttest-merror:0.025\ttrain-merror:0.019471\n",
            "[15]\ttest-merror:0.024762\ttrain-merror:0.018915\n",
            "[16]\ttest-merror:0.024524\ttrain-merror:0.01828\n",
            "[17]\ttest-merror:0.024048\ttrain-merror:0.017593\n",
            "[18]\ttest-merror:0.022857\ttrain-merror:0.017328\n",
            "[19]\ttest-merror:0.022619\ttrain-merror:0.016455\n",
            "[20]\ttest-merror:0.022857\ttrain-merror:0.01582\n",
            "[21]\ttest-merror:0.022619\ttrain-merror:0.015344\n",
            "[22]\ttest-merror:0.022143\ttrain-merror:0.014788\n",
            "[23]\ttest-merror:0.021429\ttrain-merror:0.014233\n",
            "[24]\ttest-merror:0.02119\ttrain-merror:0.013545\n",
            "[25]\ttest-merror:0.02119\ttrain-merror:0.012963\n",
            "[26]\ttest-merror:0.021667\ttrain-merror:0.012937\n",
            "[27]\ttest-merror:0.02119\ttrain-merror:0.012116\n",
            "[28]\ttest-merror:0.020714\ttrain-merror:0.011772\n",
            "[29]\ttest-merror:0.020238\ttrain-merror:0.011508\n",
            "[30]\ttest-merror:0.02119\ttrain-merror:0.010688\n",
            "[31]\ttest-merror:0.020476\ttrain-merror:0.010317\n",
            "[32]\ttest-merror:0.020714\ttrain-merror:0.009788\n",
            "[33]\ttest-merror:0.020476\ttrain-merror:0.009365\n",
            "[34]\ttest-merror:0.020476\ttrain-merror:0.008995\n",
            "[35]\ttest-merror:0.019762\ttrain-merror:0.00873\n",
            "[36]\ttest-merror:0.019762\ttrain-merror:0.008254\n",
            "[37]\ttest-merror:0.020476\ttrain-merror:0.007963\n",
            "[38]\ttest-merror:0.019762\ttrain-merror:0.007619\n",
            "[39]\ttest-merror:0.019762\ttrain-merror:0.007302\n",
            "[40]\ttest-merror:0.02\ttrain-merror:0.006905\n",
            "[41]\ttest-merror:0.02\ttrain-merror:0.006667\n",
            "[42]\ttest-merror:0.020714\ttrain-merror:0.006323\n",
            "[43]\ttest-merror:0.020476\ttrain-merror:0.006429\n",
            "[44]\ttest-merror:0.02\ttrain-merror:0.005952\n",
            "[45]\ttest-merror:0.019762\ttrain-merror:0.005608\n",
            "[46]\ttest-merror:0.02\ttrain-merror:0.005608\n",
            "[47]\ttest-merror:0.02\ttrain-merror:0.005317\n",
            "[48]\ttest-merror:0.019762\ttrain-merror:0.004974\n",
            "[49]\ttest-merror:0.019524\ttrain-merror:0.004656\n"
          ],
          "name": "stdout"
        }
      ]
    },
    {
      "cell_type": "code",
      "metadata": {
        "id": "zHxXufJTJtgM",
        "outputId": "710f1fc3-c0cd-47d7-d382-db78ca3d2c45",
        "colab": {
          "base_uri": "https://localhost:8080/",
          "height": 33
        }
      },
      "source": [
        "accuracy_score(valid_df['label'], np.argmax(xgb_model.predict(dfvalid), axis = 1))"
      ],
      "execution_count": null,
      "outputs": [
        {
          "output_type": "execute_result",
          "data": {
            "text/plain": [
              "0.9804761904761905"
            ]
          },
          "metadata": {
            "tags": []
          },
          "execution_count": 164
        }
      ]
    },
    {
      "cell_type": "code",
      "metadata": {
        "id": "LDpxS6VRBCd_",
        "outputId": "1689c9a9-3613-4c06-da27-d1a72c0bba74",
        "colab": {
          "base_uri": "https://localhost:8080/",
          "height": 33
        }
      },
      "source": [
        "accuracy_score(valid_df['label'], np.argmax(xgb_model.predict(dfvalid) + get_predict(valid_df)[0] + forest.predict_proba(valid_df[tree_columns]), axis = 1))"
      ],
      "execution_count": null,
      "outputs": [
        {
          "output_type": "execute_result",
          "data": {
            "text/plain": [
              "0.98"
            ]
          },
          "metadata": {
            "tags": []
          },
          "execution_count": 166
        }
      ]
    },
    {
      "cell_type": "code",
      "metadata": {
        "id": "QIX7H7ZYJYg4"
      },
      "source": [
        ""
      ],
      "execution_count": null,
      "outputs": []
    },
    {
      "cell_type": "code",
      "metadata": {
        "id": "wzhxFnuiJYjF"
      },
      "source": [
        ""
      ],
      "execution_count": null,
      "outputs": []
    },
    {
      "cell_type": "code",
      "metadata": {
        "id": "lh6PhYnumJLm"
      },
      "source": [
        "make_submit_file(test_df)"
      ],
      "execution_count": null,
      "outputs": []
    },
    {
      "cell_type": "code",
      "metadata": {
        "id": "hcU6vYUCbOIo"
      },
      "source": [
        "images, labels = next(iter(train_data_loader))"
      ],
      "execution_count": null,
      "outputs": []
    },
    {
      "cell_type": "code",
      "metadata": {
        "id": "Pwje6KknRGNo",
        "outputId": "b1556491-ff0d-473c-f866-2d3f24cec882",
        "colab": {
          "base_uri": "https://localhost:8080/",
          "height": 33
        }
      },
      "source": [
        "images[1]['image'].shape"
      ],
      "execution_count": null,
      "outputs": [
        {
          "output_type": "execute_result",
          "data": {
            "text/plain": [
              "(28, 28)"
            ]
          },
          "metadata": {
            "tags": []
          },
          "execution_count": 228
        }
      ]
    },
    {
      "cell_type": "code",
      "metadata": {
        "id": "YK_R0GGbbyuJ",
        "outputId": "c89fa51f-0b85-481f-c325-bb07c732dc8f",
        "colab": {
          "base_uri": "https://localhost:8080/",
          "height": 369
        }
      },
      "source": [
        "transform = A.Compose([\n",
        "                       A.\n",
        "])\n",
        "image = images[1]['image'] * 255\n",
        "augment = transform(image = image)\n",
        "fig, ax = plt.subplots(1,2)\n",
        "ax[0].imshow(image, cmap = 'gray')\n",
        "ax[0].set_title('original')\n",
        "ax[1].imshow(augment['image'], cmap = 'gray')\n",
        "ax[1].set_title('transform')\n",
        "plt.show"
      ],
      "execution_count": null,
      "outputs": [
        {
          "output_type": "error",
          "ename": "NotImplementedError",
          "evalue": "ignored",
          "traceback": [
            "\u001b[0;31m---------------------------------------------------------------------------\u001b[0m",
            "\u001b[0;31mNotImplementedError\u001b[0m                       Traceback (most recent call last)",
            "\u001b[0;32m<ipython-input-242-1286ea94822f>\u001b[0m in \u001b[0;36m<module>\u001b[0;34m()\u001b[0m\n\u001b[1;32m      3\u001b[0m ])\n\u001b[1;32m      4\u001b[0m \u001b[0mimage\u001b[0m \u001b[0;34m=\u001b[0m \u001b[0mimages\u001b[0m\u001b[0;34m[\u001b[0m\u001b[0;36m1\u001b[0m\u001b[0;34m]\u001b[0m\u001b[0;34m[\u001b[0m\u001b[0;34m'image'\u001b[0m\u001b[0;34m]\u001b[0m \u001b[0;34m*\u001b[0m \u001b[0;36m255\u001b[0m\u001b[0;34m\u001b[0m\u001b[0;34m\u001b[0m\u001b[0m\n\u001b[0;32m----> 5\u001b[0;31m \u001b[0maugment\u001b[0m \u001b[0;34m=\u001b[0m \u001b[0mtransform\u001b[0m\u001b[0;34m(\u001b[0m\u001b[0mimage\u001b[0m \u001b[0;34m=\u001b[0m \u001b[0mimage\u001b[0m\u001b[0;34m)\u001b[0m\u001b[0;34m\u001b[0m\u001b[0;34m\u001b[0m\u001b[0m\n\u001b[0m\u001b[1;32m      6\u001b[0m \u001b[0mfig\u001b[0m\u001b[0;34m,\u001b[0m \u001b[0max\u001b[0m \u001b[0;34m=\u001b[0m \u001b[0mplt\u001b[0m\u001b[0;34m.\u001b[0m\u001b[0msubplots\u001b[0m\u001b[0;34m(\u001b[0m\u001b[0;36m1\u001b[0m\u001b[0;34m,\u001b[0m\u001b[0;36m2\u001b[0m\u001b[0;34m)\u001b[0m\u001b[0;34m\u001b[0m\u001b[0;34m\u001b[0m\u001b[0m\n\u001b[1;32m      7\u001b[0m \u001b[0max\u001b[0m\u001b[0;34m[\u001b[0m\u001b[0;36m0\u001b[0m\u001b[0;34m]\u001b[0m\u001b[0;34m.\u001b[0m\u001b[0mimshow\u001b[0m\u001b[0;34m(\u001b[0m\u001b[0mimage\u001b[0m\u001b[0;34m,\u001b[0m \u001b[0mcmap\u001b[0m \u001b[0;34m=\u001b[0m \u001b[0;34m'gray'\u001b[0m\u001b[0;34m)\u001b[0m\u001b[0;34m\u001b[0m\u001b[0;34m\u001b[0m\u001b[0m\n",
            "\u001b[0;32m/usr/local/lib/python3.6/dist-packages/albumentations/core/composition.py\u001b[0m in \u001b[0;36m__call__\u001b[0;34m(self, **data)\u001b[0m\n\u001b[1;32m    169\u001b[0m                                               convert_keypoints_to_albumentations, data)\n\u001b[1;32m    170\u001b[0m \u001b[0;34m\u001b[0m\u001b[0m\n\u001b[0;32m--> 171\u001b[0;31m             \u001b[0mdata\u001b[0m \u001b[0;34m=\u001b[0m \u001b[0mt\u001b[0m\u001b[0;34m(\u001b[0m\u001b[0;34m**\u001b[0m\u001b[0mdata\u001b[0m\u001b[0;34m)\u001b[0m\u001b[0;34m\u001b[0m\u001b[0;34m\u001b[0m\u001b[0m\n\u001b[0m\u001b[1;32m    172\u001b[0m \u001b[0;34m\u001b[0m\u001b[0m\n\u001b[1;32m    173\u001b[0m             \u001b[0;32mif\u001b[0m \u001b[0mdual_start_end\u001b[0m \u001b[0;32mis\u001b[0m \u001b[0;32mnot\u001b[0m \u001b[0;32mNone\u001b[0m \u001b[0;32mand\u001b[0m \u001b[0midx\u001b[0m \u001b[0;34m==\u001b[0m \u001b[0mdual_start_end\u001b[0m\u001b[0;34m[\u001b[0m\u001b[0;36m1\u001b[0m\u001b[0;34m]\u001b[0m\u001b[0;34m:\u001b[0m\u001b[0;34m\u001b[0m\u001b[0;34m\u001b[0m\u001b[0m\n",
            "\u001b[0;32m/usr/local/lib/python3.6/dist-packages/albumentations/core/transforms_interface.py\u001b[0m in \u001b[0;36m__call__\u001b[0;34m(self, **kwargs)\u001b[0m\n\u001b[1;32m     36\u001b[0m                     \u001b[0mtarget_function\u001b[0m \u001b[0;34m=\u001b[0m \u001b[0mself\u001b[0m\u001b[0;34m.\u001b[0m\u001b[0m_get_target_function\u001b[0m\u001b[0;34m(\u001b[0m\u001b[0mkey\u001b[0m\u001b[0;34m)\u001b[0m\u001b[0;34m\u001b[0m\u001b[0;34m\u001b[0m\u001b[0m\n\u001b[1;32m     37\u001b[0m                     \u001b[0mtarget_dependencies\u001b[0m \u001b[0;34m=\u001b[0m \u001b[0;34m{\u001b[0m\u001b[0mk\u001b[0m\u001b[0;34m:\u001b[0m \u001b[0mkwargs\u001b[0m\u001b[0;34m[\u001b[0m\u001b[0mk\u001b[0m\u001b[0;34m]\u001b[0m \u001b[0;32mfor\u001b[0m \u001b[0mk\u001b[0m \u001b[0;32min\u001b[0m \u001b[0mself\u001b[0m\u001b[0;34m.\u001b[0m\u001b[0mtarget_dependence\u001b[0m\u001b[0;34m.\u001b[0m\u001b[0mget\u001b[0m\u001b[0;34m(\u001b[0m\u001b[0mkey\u001b[0m\u001b[0;34m,\u001b[0m \u001b[0;34m[\u001b[0m\u001b[0;34m]\u001b[0m\u001b[0;34m)\u001b[0m\u001b[0;34m}\u001b[0m\u001b[0;34m\u001b[0m\u001b[0;34m\u001b[0m\u001b[0m\n\u001b[0;32m---> 38\u001b[0;31m                     \u001b[0mres\u001b[0m\u001b[0;34m[\u001b[0m\u001b[0mkey\u001b[0m\u001b[0;34m]\u001b[0m \u001b[0;34m=\u001b[0m \u001b[0mtarget_function\u001b[0m\u001b[0;34m(\u001b[0m\u001b[0marg\u001b[0m\u001b[0;34m,\u001b[0m \u001b[0;34m**\u001b[0m\u001b[0mdict\u001b[0m\u001b[0;34m(\u001b[0m\u001b[0mparams\u001b[0m\u001b[0;34m,\u001b[0m \u001b[0;34m**\u001b[0m\u001b[0mtarget_dependencies\u001b[0m\u001b[0;34m)\u001b[0m\u001b[0;34m)\u001b[0m\u001b[0;34m\u001b[0m\u001b[0;34m\u001b[0m\u001b[0m\n\u001b[0m\u001b[1;32m     39\u001b[0m                 \u001b[0;32melse\u001b[0m\u001b[0;34m:\u001b[0m\u001b[0;34m\u001b[0m\u001b[0;34m\u001b[0m\u001b[0m\n\u001b[1;32m     40\u001b[0m                     \u001b[0mres\u001b[0m\u001b[0;34m[\u001b[0m\u001b[0mkey\u001b[0m\u001b[0;34m]\u001b[0m \u001b[0;34m=\u001b[0m \u001b[0;32mNone\u001b[0m\u001b[0;34m\u001b[0m\u001b[0;34m\u001b[0m\u001b[0m\n",
            "\u001b[0;32m/usr/local/lib/python3.6/dist-packages/albumentations/core/transforms_interface.py\u001b[0m in \u001b[0;36mapply\u001b[0;34m(self, img, **params)\u001b[0m\n\u001b[1;32m     51\u001b[0m \u001b[0;34m\u001b[0m\u001b[0m\n\u001b[1;32m     52\u001b[0m     \u001b[0;32mdef\u001b[0m \u001b[0mapply\u001b[0m\u001b[0;34m(\u001b[0m\u001b[0mself\u001b[0m\u001b[0;34m,\u001b[0m \u001b[0mimg\u001b[0m\u001b[0;34m,\u001b[0m \u001b[0;34m**\u001b[0m\u001b[0mparams\u001b[0m\u001b[0;34m)\u001b[0m\u001b[0;34m:\u001b[0m\u001b[0;34m\u001b[0m\u001b[0;34m\u001b[0m\u001b[0m\n\u001b[0;32m---> 53\u001b[0;31m         \u001b[0;32mraise\u001b[0m \u001b[0mNotImplementedError\u001b[0m\u001b[0;34m\u001b[0m\u001b[0;34m\u001b[0m\u001b[0m\n\u001b[0m\u001b[1;32m     54\u001b[0m \u001b[0;34m\u001b[0m\u001b[0m\n\u001b[1;32m     55\u001b[0m     \u001b[0;32mdef\u001b[0m \u001b[0mget_params\u001b[0m\u001b[0;34m(\u001b[0m\u001b[0mself\u001b[0m\u001b[0;34m)\u001b[0m\u001b[0;34m:\u001b[0m\u001b[0;34m\u001b[0m\u001b[0;34m\u001b[0m\u001b[0m\n",
            "\u001b[0;31mNotImplementedError\u001b[0m: "
          ]
        }
      ]
    },
    {
      "cell_type": "code",
      "metadata": {
        "id": "KvFuR-kPcGvv",
        "outputId": "8003fcf1-0d57-4789-aa2d-13d687918bec",
        "colab": {
          "base_uri": "https://localhost:8080/",
          "height": 33
        }
      },
      "source": [
        "A.ShiftScaleRotate()\n",
        "A.GridDistortion()"
      ],
      "execution_count": null,
      "outputs": [
        {
          "output_type": "execute_result",
          "data": {
            "text/plain": [
              "<albumentations.augmentations.transforms.RandomScale at 0x7fa891afc438>"
            ]
          },
          "metadata": {
            "tags": []
          },
          "execution_count": 106
        }
      ]
    },
    {
      "cell_type": "code",
      "metadata": {
        "id": "zr-fvxw7dIaY"
      },
      "source": [
        ""
      ],
      "execution_count": null,
      "outputs": []
    }
  ]
}